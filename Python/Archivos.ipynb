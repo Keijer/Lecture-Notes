{
 "cells": [
  {
   "cell_type": "markdown",
   "metadata": {},
   "source": [
    "# Archivos de texto en Python "
   ]
  },
  {
   "cell_type": "markdown",
   "metadata": {},
   "source": [
    "Como en cualquier lenguaje de propósito general la manipulación de archivos texto es una tarea fundamental, por esta razón Python incluye clases y funciones especializadas para dicha tarea. Como se estudió previamente, existen multiples formatos de texto, cada uno de estos suele tener un ámbito de aplicación bien definido. El que probablemente sea el formato más primitivo, es .tex. \n",
    "\n",
    "A continuación se dará un ejemplo de los métodos principales de Python para manejar texto utilizando como ejemplo archivos de formato .text \n"
   ]
  },
  {
   "cell_type": "markdown",
   "metadata": {},
   "source": [
    "## Manejo de Archivos "
   ]
  },
  {
   "cell_type": "markdown",
   "metadata": {},
   "source": [
    "El método open() de python es el más básico para el manejo de archoivos. Este método toma dos parámetros el nombre del archivo, y el modo open(file, mode). Existen 4 tipos diferentes de modos para abrir un archivo con el mértodo open(), de los cuales dependerá como se manejara el archivo en Python, \"r\", \"a\", \"w\", \"x\". A su vez puede especificarse si el archivo de ser manejado en modo binario \"b\" o como texto \"t\" (modo default). "
   ]
  },
  {
   "cell_type": "markdown",
   "metadata": {},
   "source": [
    "### Crear un Archivo "
   ]
  },
  {
   "cell_type": "markdown",
   "metadata": {},
   "source": [
    "El modo \"x\" - Create - Crea el archivo especificado. Si el archivo ya existe el modo arroja un error. \n",
    "En el ejemplo a continuación se asigna a la variable file1 un archivo nuevo de nombre file1 y de formato texto. "
   ]
  },
  {
   "cell_type": "code",
   "execution_count": null,
   "metadata": {},
   "outputs": [],
   "source": [
    "file1 = open('file1.txt','wt')"
   ]
  },
  {
   "cell_type": "markdown",
   "metadata": {},
   "source": [
    "str1 = '\\t writable \\t readable \\t seekable\\n\\t {} \\t\\t {} \\t\\t {}'.format(file1.writable(),file1.readable(),file1.seekable())\n",
    "print(str1)"
   ]
  },
  {
   "cell_type": "code",
   "execution_count": null,
   "metadata": {},
   "outputs": [],
   "source": [
    "file1.tell()"
   ]
  },
  {
   "cell_type": "code",
   "execution_count": null,
   "metadata": {},
   "outputs": [],
   "source": [
    "file1.tell()"
   ]
  },
  {
   "cell_type": "code",
   "execution_count": null,
   "metadata": {},
   "outputs": [],
   "source": [
    "file1.write('Hola mundo, con archivos!\\nEste archivo posee 3 líneas.\\Otra línea.')"
   ]
  },
  {
   "cell_type": "code",
   "execution_count": null,
   "metadata": {},
   "outputs": [],
   "source": [
    "file1.close()"
   ]
  },
  {
   "cell_type": "markdown",
   "metadata": {},
   "source": [
    "## Leer un archivo de texto"
   ]
  },
  {
   "cell_type": "code",
   "execution_count": null,
   "metadata": {},
   "outputs": [],
   "source": [
    "file_n = open('file1.txt','rt')"
   ]
  },
  {
   "cell_type": "code",
   "execution_count": null,
   "metadata": {},
   "outputs": [],
   "source": [
    "file_n.read() #Este comando lee todo el contenido"
   ]
  },
  {
   "cell_type": "code",
   "execution_count": null,
   "metadata": {},
   "outputs": [],
   "source": [
    "file_n.close()"
   ]
  },
  {
   "cell_type": "markdown",
   "metadata": {},
   "source": [
    "## Escribir en un archivo"
   ]
  },
  {
   "cell_type": "code",
   "execution_count": null,
   "metadata": {},
   "outputs": [],
   "source": [
    "file_k = open('file.txt','wt')"
   ]
  },
  {
   "cell_type": "code",
   "execution_count": null,
   "metadata": {},
   "outputs": [],
   "source": [
    "file_k.write('Estamos agregando otra línea?')"
   ]
  },
  {
   "cell_type": "code",
   "execution_count": null,
   "metadata": {},
   "outputs": [],
   "source": [
    "file_k.close()"
   ]
  },
  {
   "cell_type": "markdown",
   "metadata": {},
   "source": [
    "### Comprobemos"
   ]
  },
  {
   "cell_type": "code",
   "execution_count": null,
   "metadata": {},
   "outputs": [],
   "source": [
    "file_k = open('file.txt','rt')"
   ]
  },
  {
   "cell_type": "code",
   "execution_count": null,
   "metadata": {},
   "outputs": [],
   "source": [
    "file_k.read()"
   ]
  },
  {
   "cell_type": "markdown",
   "metadata": {},
   "source": [
    "el modo 'w' sustituye el contenido del archivo. Como agregamos texto nuevo sin borrar el anterior?"
   ]
  },
  {
   "cell_type": "code",
   "execution_count": null,
   "metadata": {},
   "outputs": [],
   "source": [
    "file_k.close()"
   ]
  },
  {
   "cell_type": "markdown",
   "metadata": {},
   "source": [
    "### Modifiquemos el código"
   ]
  },
  {
   "cell_type": "code",
   "execution_count": null,
   "metadata": {},
   "outputs": [],
   "source": [
    "file_k = open('file.txt','at')"
   ]
  },
  {
   "cell_type": "code",
   "execution_count": null,
   "metadata": {},
   "outputs": [],
   "source": [
    "file_k.write('Con el modo \"a\", que hace referencia a la palabra append ')"
   ]
  },
  {
   "cell_type": "code",
   "execution_count": null,
   "metadata": {},
   "outputs": [],
   "source": [
    "file_k.write('Es posible escribir múltiples veces en el archivo, sin sobreescribir las anteriores')"
   ]
  },
  {
   "cell_type": "code",
   "execution_count": null,
   "metadata": {},
   "outputs": [],
   "source": [
    "file_k.close()"
   ]
  },
  {
   "cell_type": "markdown",
   "metadata": {},
   "source": [
    "### Comprobemos de nuevo"
   ]
  },
  {
   "cell_type": "code",
   "execution_count": null,
   "metadata": {},
   "outputs": [],
   "source": [
    "file_k = open('file.txt','rt')\n",
    "file_k.read()"
   ]
  },
  {
   "cell_type": "code",
   "execution_count": null,
   "metadata": {},
   "outputs": [],
   "source": [
    "file_k.close()"
   ]
  },
  {
   "cell_type": "markdown",
   "metadata": {},
   "source": [
    "No agregó saltos de líneas!!"
   ]
  },
  {
   "cell_type": "markdown",
   "metadata": {},
   "source": [
    "## Escribir archivos de múltiples líneas"
   ]
  },
  {
   "cell_type": "markdown",
   "metadata": {},
   "source": [
    "Se creará un archivo de texto nuevo con el nombre prueba.txt.\n",
    "\n",
    "Al objeto se le asignará el nombre archivo.\n",
    "\n",
    "Se escribirán 3 líneas.\n",
    "\n",
    "Se desplegará la posición del puntero del archivo.\n",
    "\n",
    "Se desplegará el tipo de dato que es la variable archivo.\n",
    "\n",
    "Se cerrará el archivo."
   ]
  },
  {
   "cell_type": "markdown",
   "metadata": {},
   "source": [
    "## Crear y escribir el archivo con múltiples líneas."
   ]
  },
  {
   "cell_type": "code",
   "execution_count": 3,
   "metadata": {},
   "outputs": [
    {
     "name": "stdout",
     "output_type": "stream",
     "text": [
      "81\n",
      "<class '_io.TextIOWrapper'>\n"
     ]
    }
   ],
   "source": [
    "file = open('file_ml.txt','w')\n",
    "file.write(\"Hola.\\nBienvenido al curso de Python.\\nEsperamos que sea una agradable experiencia.\")\n",
    "print(file.tell())\n",
    "print(type(file))\n",
    "file.close()"
   ]
  },
  {
   "cell_type": "markdown",
   "metadata": {},
   "source": [
    "## Leer hasta salto de línea"
   ]
  },
  {
   "cell_type": "code",
   "execution_count": 6,
   "metadata": {},
   "outputs": [
    {
     "name": "stdout",
     "output_type": "stream",
     "text": [
      "Hola.\n",
      "\n"
     ]
    }
   ],
   "source": [
    "archivo = open(\"file_ml.txt\", \"r\")\n",
    "print(archivo.readline()) #Este comando leerá hasta que consiga el caracter salto de línea\n",
    "archivo.close()"
   ]
  },
  {
   "cell_type": "markdown",
   "metadata": {},
   "source": [
    "## Guardar las líneas en una lista"
   ]
  },
  {
   "cell_type": "code",
   "execution_count": 8,
   "metadata": {},
   "outputs": [
    {
     "name": "stdout",
     "output_type": "stream",
     "text": [
      "['Hola.\\n', 'Bienvenido al curso de Python.\\n', 'Esperamos que sea una agradable experiencia.']\n"
     ]
    }
   ],
   "source": [
    "archivo = open(\"file_ml.txt\", \"r\")\n",
    "a = archivo.readlines()\n",
    "print(a)\n",
    "archivo.close()"
   ]
  },
  {
   "cell_type": "code",
   "execution_count": 9,
   "metadata": {},
   "outputs": [
    {
     "name": "stdout",
     "output_type": "stream",
     "text": [
      "<class 'list'>\n"
     ]
    }
   ],
   "source": [
    "print(type(a))"
   ]
  },
  {
   "cell_type": "markdown",
   "metadata": {},
   "source": [
    "Vamos a imprimir las líneas"
   ]
  },
  {
   "cell_type": "code",
   "execution_count": 11,
   "metadata": {},
   "outputs": [
    {
     "name": "stdout",
     "output_type": "stream",
     "text": [
      "Hola.\n",
      "\n",
      "Bienvenido al curso de Python.\n",
      "\n",
      "Esperamos que sea una agradable experiencia.\n"
     ]
    }
   ],
   "source": [
    "archivo = open(\"file_ml.txt\", \"r\")\n",
    "for linea in archivo.readlines():\n",
    "    print(linea)\n",
    "archivo.close()"
   ]
  },
  {
   "cell_type": "markdown",
   "metadata": {},
   "source": [
    "# Operación Segura"
   ]
  },
  {
   "cell_type": "code",
   "execution_count": 16,
   "metadata": {},
   "outputs": [],
   "source": [
    "with open(\"file_ml.txt\", \"at\") as archivo:\n",
    "    archivo.writelines([\"Lo lograste.\\n\",\"Has creado un archivo de forma segura.\"])\n"
   ]
  },
  {
   "cell_type": "code",
   "execution_count": 17,
   "metadata": {},
   "outputs": [
    {
     "name": "stdout",
     "output_type": "stream",
     "text": [
      "Hola.\n",
      "\n",
      "Bienvenido al curso de Python.\n",
      "\n",
      "Esperamos que sea una agradable experiencia.Lo lograste.\n",
      "\n",
      "Has creado un archivo de forma segura.\n"
     ]
    }
   ],
   "source": [
    "archivo = open(\"file_ml.txt\", \"r\")\n",
    "for linea in archivo.readlines():\n",
    "    print(linea)\n",
    "archivo.close()"
   ]
  },
  {
   "cell_type": "code",
   "execution_count": null,
   "metadata": {},
   "outputs": [],
   "source": []
  }
 ],
 "metadata": {
  "kernelspec": {
   "display_name": "Python 3",
   "language": "python",
   "name": "python3"
  },
  "language_info": {
   "codemirror_mode": {
    "name": "ipython",
    "version": 3
   },
   "file_extension": ".py",
   "mimetype": "text/x-python",
   "name": "python",
   "nbconvert_exporter": "python",
   "pygments_lexer": "ipython3",
   "version": "3.6.9"
  }
 },
 "nbformat": 4,
 "nbformat_minor": 2
}

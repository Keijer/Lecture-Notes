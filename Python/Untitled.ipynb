{
 "cells": [
  {
   "cell_type": "code",
   "execution_count": 2,
   "metadata": {},
   "outputs": [
    {
     "name": "stdout",
     "output_type": "stream",
     "text": [
      "Jorge\n",
      "Universidad de la vida\n"
     ]
    }
   ],
   "source": [
    "class Person:\n",
    "    name = ''\n",
    "    school = ''\n",
    "     \n",
    "    def print_name(self):\n",
    "        print(self.name)\n",
    "         \n",
    "    def print_school(self):\n",
    "        print(self.school)\n",
    "     \n",
    "jorge = Person()\n",
    "jorge.name = 'Jorge'\n",
    "jorge.school = 'Universidad de la vida'\n",
    "jorge.print_name()\n",
    "jorge.print_school()"
   ]
  },
  {
   "cell_type": "code",
   "execution_count": null,
   "metadata": {},
   "outputs": [],
   "source": []
  }
 ],
 "metadata": {
  "kernelspec": {
   "display_name": "Python 3",
   "language": "python",
   "name": "python3"
  },
  "language_info": {
   "codemirror_mode": {
    "name": "ipython",
    "version": 3
   },
   "file_extension": ".py",
   "mimetype": "text/x-python",
   "name": "python",
   "nbconvert_exporter": "python",
   "pygments_lexer": "ipython3",
   "version": "3.7.3"
  }
 },
 "nbformat": 4,
 "nbformat_minor": 2
}

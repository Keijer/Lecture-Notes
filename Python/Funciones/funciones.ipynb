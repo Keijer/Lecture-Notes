{
 "cells": [
  {
   "cell_type": "markdown",
   "metadata": {},
   "source": [
    "# Suma de Primos"
   ]
  },
  {
   "cell_type": "markdown",
   "metadata": {},
   "source": [
    "## La suma de los números primos menores a 10 es 2 + 3 + 5 + 7 = 17. Realice un programa que determine la suma de los primos menores a un valor N entero y positivo leído como dato."
   ]
  },
  {
   "cell_type": "markdown",
   "metadata": {},
   "source": [
    "### Construyamos este programa de manera modular. "
   ]
  },
  {
   "cell_type": "markdown",
   "metadata": {},
   "source": [
    "### Función retorna un booleano, True si es primo o False sino:"
   ]
  },
  {
   "cell_type": "code",
   "execution_count": null,
   "metadata": {},
   "outputs": [],
   "source": [
    "def isPrime(num):\n",
    "    \"\"\"Docstring\"\"\"\n",
    "    if num == 0:\n",
    "        result = False\n",
    "    else: \n",
    "        result = True\n",
    "        \n",
    "    for div in range(2,num):\n",
    "        if num % div == 0:\n",
    "            result = False\n",
    "            break\n",
    "    \n",
    "    return result"
   ]
  },
  {
   "cell_type": "markdown",
   "metadata": {},
   "source": [
    "### Función que retorna los números primos menores a N"
   ]
  },
  {
   "cell_type": "code",
   "execution_count": null,
   "metadata": {},
   "outputs": [],
   "source": [
    "def primeNumbers(N):\n",
    "    \"\"\"Docstring\"\"\"\n",
    "    p_numbers = []\n",
    "    for i in range(1,N+1):\n",
    "        if isPrime(i):\n",
    "            p_numbers.append(i)\n",
    "    return p_numbers"
   ]
  },
  {
   "cell_type": "code",
   "execution_count": null,
   "metadata": {},
   "outputs": [],
   "source": [
    "N = int(input(\"Ingrese un número entero: \"))"
   ]
  },
  {
   "cell_type": "code",
   "execution_count": null,
   "metadata": {},
   "outputs": [],
   "source": [
    "print(sum(primeNumbers(N)))"
   ]
  },
  {
   "cell_type": "markdown",
   "metadata": {},
   "source": [
    "# Método de Bisección"
   ]
  },
  {
   "cell_type": "markdown",
   "metadata": {},
   "source": [
    "**Este método sirve para conseguir raices de funciones a través de un proceso iterativo.**\n",
    "\n",
    "**El Método  de Bisección es uno de los métodos más sencillos y de fácil intuición para resolver ecuaciones en una variable, también conocido**\n",
    "\n",
    "**como Método de Intervalo Medio. El método consiste en lo siguiente:**\n",
    "\n",
    "    - Debe existir seguridad sobre la continuidad de la función f(x) en el intervalo [a,b] \n",
    "    \n",
    "    - A continuación se verifica que f ( a ) * f ( b ) < 0  \n",
    "    \n",
    "    - Se calcula el punto medio m del intervalo [a,b] y se evalúa f(m) si ese valor es igual\n",
    "    a cero, ya hemos encontrado la raíz buscada.\n",
    "    \n",
    "    - En caso de que no lo sea, verificamos si f(m) tiene signo opuesto con f(a) o con f(b) \n",
    "    \n",
    "    - Se  redefine  el  intervalo  [a,  b]  como  [a,  m]  ó  [m,  b]  según  se  haya determinado en cuál\n",
    "    de estos intervalos ocurre un cambio de signo \n",
    "    \n",
    "    - Con este nuevo intervalo se continúa sucesivamente encerrando la solución en un intervalo cada vez \n",
    "    más pequeño, hasta alcanzar la precisión deseada Diseñe un programa que calcule la raíz de una \n",
    "    función sobre el método descrito."
   ]
  },
  {
   "cell_type": "markdown",
   "metadata": {},
   "source": [
    "### **Definamos la función**"
   ]
  },
  {
   "cell_type": "code",
   "execution_count": 8,
   "metadata": {},
   "outputs": [],
   "source": [
    "f = lambda x: x**2 - 17"
   ]
  },
  {
   "cell_type": "markdown",
   "metadata": {},
   "source": [
    "### Función que verifica si f(a)* f(b) < 0"
   ]
  },
  {
   "cell_type": "code",
   "execution_count": 26,
   "metadata": {},
   "outputs": [],
   "source": [
    "def diffSign(a,b,w):\n",
    "    return w(a)*w(b) < 0"
   ]
  },
  {
   "cell_type": "code",
   "execution_count": 37,
   "metadata": {},
   "outputs": [],
   "source": [
    "def midPoint(a,b):\n",
    "    return (a+b)/2"
   ]
  },
  {
   "cell_type": "code",
   "execution_count": 38,
   "metadata": {},
   "outputs": [],
   "source": [
    "def newInterval(a,b,w):\n",
    "    m = midPoint(a,b)\n",
    "    if diffSign(a,m,w):\n",
    "        val_1 = a\n",
    "        val_2 = m\n",
    "    else:\n",
    "        val_1 = m\n",
    "        val_2 = b\n",
    "    return val_1, val_2"
   ]
  },
  {
   "cell_type": "markdown",
   "metadata": {},
   "source": [
    "## Programa general"
   ]
  },
  {
   "cell_type": "markdown",
   "metadata": {},
   "source": [
    "### **¿El mínimo está acotado?**"
   ]
  },
  {
   "cell_type": "code",
   "execution_count": 39,
   "metadata": {},
   "outputs": [],
   "source": [
    "a = 0\n",
    "b = 17\n",
    "ite_max = 1000\n",
    "it = 1"
   ]
  },
  {
   "cell_type": "code",
   "execution_count": 41,
   "metadata": {},
   "outputs": [],
   "source": [
    "while(a != b and it < ite_max):\n",
    "    a, b = newInterval(a,b,f)\n",
    "    sol = midPoint(a,b)\n",
    "    it += 1"
   ]
  },
  {
   "cell_type": "code",
   "execution_count": 44,
   "metadata": {},
   "outputs": [
    {
     "data": {
      "text/plain": [
       "4.1231056256176615"
      ]
     },
     "execution_count": 44,
     "metadata": {},
     "output_type": "execute_result"
    }
   ],
   "source": [
    "sol"
   ]
  }
 ],
 "metadata": {
  "kernelspec": {
   "display_name": "Python 3",
   "language": "python",
   "name": "python3"
  },
  "language_info": {
   "codemirror_mode": {
    "name": "ipython",
    "version": 3
   },
   "file_extension": ".py",
   "mimetype": "text/x-python",
   "name": "python",
   "nbconvert_exporter": "python",
   "pygments_lexer": "ipython3",
   "version": "3.7.3"
  }
 },
 "nbformat": 4,
 "nbformat_minor": 2
}

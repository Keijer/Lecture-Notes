{
 "cells": [
  {
   "cell_type": "markdown",
   "metadata": {},
   "source": [
    "# **INTRODUCCIÓN A LA PROGRAMACIÓN**\n",
    "# **ORIENTADA A OBJETOS**\n",
    "# *Un enfoque desde Python*"
   ]
  },
  {
   "cell_type": "markdown",
   "metadata": {},
   "source": [
    "### Historia y Conceptos Básicos.\n",
    "La programación orientada a objetos, es un *paradigma de programación* elaborado por los noruegos Ole-johan Dahi y Kristen Nygaard a comienzos de los años 60 y complementado por los trabajos del estadounidense Alan Kay en los años 70.\n",
    "\n",
    "La programación orientada a objetos consiste en la interacción de *bloques de software abstractos* llamados **objetos**. El adjetivo *abstracto* hace referencia a caracteristicas y/o funcionalidades que fueron *aislado de un todo* por medio de una operación intelectual. La fortaleza de este paradigma de programación es la flexibilidad para adaptarse procesos reales, es posible modelar un sistema real mediante la interacción de diversos **objetos** que emulen los componentes de dicho sistema. \n",
    "\n",
    "Por ejemplo, imagine que desea realizar un juego de carreras de autos, dichos autos por razones lógicas no pueden ser replicas exactas de automóviles reales, por lo tanto se deben generar **objetos** para cada uno de estos, los cuales serán abstractos porque contendrán caracteristicas y funcionalidades aisladas de un objeto real. Imaginemos ahora que el juego tambien permite elegir al conductor del auto, consecuentemente se deben generar **objetos** para cada uno de los conductores. La interacción de estos objetos dará forma al producto final, el juego. \n",
    "\n",
    "Es razonable pensar que todos los **objetos** asociados a los automoviles tienen una estructura similar, igualmente los **objetos** asociados a los conductores. Ambos tipos de objetos son de **clases** diferentes, dichas clases no son mas que plantillas (o planos) que contienen la estructura (caracteristicas y funcionalidades) que describa efectivamente la abstracción. Por lo tanto, los **objetos** son **instancias** de alguna **clase**.\n",
    "\n"
   ]
  },
  {
   "cell_type": "code",
   "execution_count": null,
   "metadata": {},
   "outputs": [],
   "source": []
  },
  {
   "cell_type": "code",
   "execution_count": null,
   "metadata": {},
   "outputs": [],
   "source": []
  }
 ],
 "metadata": {
  "kernelspec": {
   "display_name": "Python 3",
   "language": "python",
   "name": "python3"
  },
  "language_info": {
   "codemirror_mode": {
    "name": "ipython",
    "version": 3
   },
   "file_extension": ".py",
   "mimetype": "text/x-python",
   "name": "python",
   "nbconvert_exporter": "python",
   "pygments_lexer": "ipython3",
   "version": "3.7.3"
  }
 },
 "nbformat": 4,
 "nbformat_minor": 4
}

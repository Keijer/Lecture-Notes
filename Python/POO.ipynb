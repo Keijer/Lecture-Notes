{
 "cells": [
  {
   "cell_type": "markdown",
   "metadata": {},
   "source": [
    "# **INTRODUCCIÓN A LA PROGRAMACIÓN**\n",
    "# **ORIENTADA A OBJETOS**\n",
    "# *Un enfoque desde Python*"
   ]
  },
  {
   "cell_type": "markdown",
   "metadata": {},
   "source": [
    "## Historia y Conceptos Básicos.\n",
    "La programación orientada a objetos, es un *paradigma de programación* elaborado por los noruegos Ole-johan Dahi y Kristen Nygaard a comienzos de los años 60 y complementado por los trabajos del estadounidense Alan Kay en los años 70.\n",
    "\n",
    "La programación orientada a objetos consiste en la interacción de *bloques de software abstractos* llamados **objetos**. El adjetivo *abstracto* hace referencia a caracteristicas y/o funcionalidades que fueron *aislado de un todo* por medio de una operación intelectual. La fortaleza de este paradigma de programación es la flexibilidad para adaptarse procesos reales, es posible modelar un sistema real mediante la interacción de diversos objetos que emulen los componentes de dicho sistema. \n",
    "\n",
    "Por ejemplo, imagine que desea realizar un juego de carreras de autos, dichos autos por razones lógicas no pueden ser replicas exactas de automóviles reales, por lo tanto se deben generar objetos para cada uno de estos, los cuales serán abstractos porque contendrán caracteristicas y funcionalidades aisladas de un objeto real. Imaginemos ahora que el juego tambien permite elegir al conductor del auto, consecuentemente se deben generar objetos para cada uno de los conductores. La interacción de estos objetos dará forma al producto final, el juego. \n",
    "\n",
    "Es razonable pensar que todos los objetos asociados a los automoviles tienen una estructura similar, igualmente los objetos asociados a los conductores. Ambos tipos de objetos son de **clases** diferentes, dichas clases no son mas que plantillas (o planos) que contienen la estructura (caracteristicas y funcionalidades) que describa efectivamente la abstracción. Por lo tanto, los objetos son **instancias** de alguna clase y ambos términos son intercambiables.\n",
    "\n",
    "En el ambito de la programación orientada a objetos las caracteristicas abstractas son códificadas como variables y son denominadas como **atributos**, las funcionalidades abstractas son códificadas a través de subprogramas y son denominados como **métodos**."
   ]
  },
  {
   "cell_type": "markdown",
   "metadata": {},
   "source": [
    "## Definición de Clases\n",
    "Las clases en Python son definidas mediante la sentencia *class*, esta debe estar seguida por el identificador de la clase cuyo nombre se recomienda esté escrito con la nomenclatura **CapWord** tambien llamada **CammelCase** (PEP 8 Style Guide for Python Code, Guido van Rossum) "
   ]
  },
  {
   "cell_type": "code",
   "execution_count": 1,
   "metadata": {},
   "outputs": [],
   "source": [
    "class Automovil():\n",
    "    pass"
   ]
  },
  {
   "cell_type": "markdown",
   "metadata": {},
   "source": [
    "Con el fin de verificar la correcta definición de la clase, instanciaremos dos **objetos**, Ferrari y Porche."
   ]
  },
  {
   "cell_type": "code",
   "execution_count": 2,
   "metadata": {},
   "outputs": [],
   "source": [
    "Ferrari = Automovil()\n",
    "Porche = Automovil()"
   ]
  },
  {
   "cell_type": "markdown",
   "metadata": {},
   "source": [
    "Estos objetos se comportan como cualquier otro objeto en python, y se verifica su tipo e identificador con las funciones *type()* y *id()* respectivamentes."
   ]
  },
  {
   "cell_type": "code",
   "execution_count": null,
   "metadata": {},
   "outputs": [],
   "source": [
    "print(type(Ferrari))\n",
    "print(type(Porche))"
   ]
  },
  {
   "cell_type": "code",
   "execution_count": null,
   "metadata": {},
   "outputs": [],
   "source": [
    "print(\"\\t     Ferrari\\t \\t     Porche\\n ID\\t {}\\t {}\".format(id(Ferrari),id(Porche)))"
   ]
  },
  {
   "cell_type": "markdown",
   "metadata": {},
   "source": [
    "Los identificadores diferentes para los objetos Ferrari y Porche implican que ambos son objetos diferentes y tienen contextos diferentes (espacio de memoria propios). "
   ]
  },
  {
   "cell_type": "markdown",
   "metadata": {},
   "source": [
    "### Atributos\n",
    "En el caso anterior, el cuerpo de la clase automovil no contenia ningun atributos o métodos.  A continuación  se redefinirá la clase *Automovil* y se agregarán los atributos marca, modelo, color, numero de puertas y cilindrada."
   ]
  },
  {
   "cell_type": "code",
   "execution_count": 19,
   "metadata": {},
   "outputs": [],
   "source": [
    "class Automovil():\n",
    "    marca = ''\n",
    "    modelo = ''\n",
    "    color = ''\n",
    "    numero_de_puertas = 0\n",
    "    cilindrada = 0\n",
    "    "
   ]
  },
  {
   "cell_type": "code",
   "execution_count": 20,
   "metadata": {},
   "outputs": [],
   "source": [
    "Ferrari = Automovil()\n",
    "Porche = Automovil()"
   ]
  },
  {
   "cell_type": "markdown",
   "metadata": {},
   "source": [
    "Igual que en ejemplo anterior, Ferrari y Porche son objetos diferentes muestra de esto es que tiene diferentes identificadores"
   ]
  },
  {
   "cell_type": "code",
   "execution_count": null,
   "metadata": {},
   "outputs": [],
   "source": [
    "print(\"\\t     Ferrari\\t \\t     Porche\\n ID\\t {}\\t {}\".format(id(Ferrari),id(Porche)))"
   ]
  },
  {
   "cell_type": "code",
   "execution_count": null,
   "metadata": {},
   "outputs": [],
   "source": []
  }
 ],
 "metadata": {
  "kernelspec": {
   "display_name": "Python 3",
   "language": "python",
   "name": "python3"
  },
  "language_info": {
   "codemirror_mode": {
    "name": "ipython",
    "version": 3
   },
   "file_extension": ".py",
   "mimetype": "text/x-python",
   "name": "python",
   "nbconvert_exporter": "python",
   "pygments_lexer": "ipython3",
   "version": "3.7.3"
  }
 },
 "nbformat": 4,
 "nbformat_minor": 4
}

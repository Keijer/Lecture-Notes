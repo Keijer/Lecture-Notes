{
 "cells": [
  {
   "cell_type": "markdown",
   "metadata": {},
   "source": [
    "# **INTRODUCCIÓN A LA PROGRAMACIÓN**\n",
    "# **ORIENTADA A OBJETOS**\n",
    "# *Un enfoque desde Python*"
   ]
  },
  {
   "cell_type": "markdown",
   "metadata": {},
   "source": [
    "## Historia y Conceptos Básicos.\n",
    "La programación orientada a objetos, es un *paradigma de programación* elaborado por los noruegos Ole-johan Dahi y Kristen Nygaard a comienzos de los años 60 y complementado por los trabajos del estadounidense Alan Kay en los años 70.\n",
    "\n",
    "La programación orientada a objetos consiste en la interacción de *bloques de software abstractos* llamados **objetos**. El adjetivo *abstracto* hace referencia a características y/o funcionalidades que son *aisladas de un todo* por medio de una operación intelectual. La fortaleza de este paradigma de programación es su flexibilidad para adaptarse a procesos reales. Es posible modelar un sistema real mediante la interacción de diversos objetos que emulen los componentes de dicho sistema.\n",
    "\n",
    "Por ejemplo, imagine que desea realizar un juego de carreras de autos, dichos autos por razones lógicas no pueden ser réplicas exactas de automóviles reales, por lo tanto se deben generar objetos para cada uno de estos, los cuales serán abstractos porque contendrán características y funcionalidades aisladas de un objeto real. Imaginemos ahora que el juego también permite elegir al conductor del auto, consecuentemente se deben generar objetos para cada uno de los conductores. La interacción de estos objetos dará forma al producto final, el juego.\n",
    "\n",
    "Es razonable pensar que todos los objetos asociados a los automóviles tienen una estructura similar, igualmente los objetos asociados a los conductores. Ambos tipos de objetos son de **clases** diferentes, dichas clases no son más que plantillas (o planos) que contienen la estructura (características y funcionalidades) que describa efectivamente la abstracción. Por lo tanto, los objetos son **instancias** de alguna clase y ambos términos son intercambiables.\n",
    "\n",
    "En el ámbito de la programación orientada a objetos las características abstractas son codificadas como variables y son denominadas como **atributos**, las funcionalidades abstractas son codificadas a través de subprogramas y son denominados como **métodos**.\n"
   ]
  },
  {
   "cell_type": "markdown",
   "metadata": {},
   "source": [
    "## Definición de Clases\n",
    "Las clases en Python son definidas mediante la sentencia *class*, esta debe estar seguida por el identificador de la clase cuyo nombre se recomienda esté escrito con la nomenclatura **CapWord** también llamada **CammelCase** (PEP 8 Style Guide for Python Code, Guido van Rossum) "
   ]
  },
  {
   "cell_type": "code",
   "execution_count": null,
   "metadata": {},
   "outputs": [],
   "source": [
    "class Automovil():\n",
    "    pass"
   ]
  },
  {
   "cell_type": "markdown",
   "metadata": {},
   "source": [
    "Con el fin de verificar la correcta definición de la clase, instanciaremos dos **objetos**, Auto1 y Auto2."
   ]
  },
  {
   "cell_type": "code",
   "execution_count": null,
   "metadata": {},
   "outputs": [],
   "source": [
    "Auto1 = Automovil()\n",
    "Auto2 = Automovil()"
   ]
  },
  {
   "cell_type": "markdown",
   "metadata": {},
   "source": [
    "Estos objetos se comportan como cualquier otro objeto en python, y se verifica su tipo e identificador con las funciones *type()* y *id()* respectivamente."
   ]
  },
  {
   "cell_type": "code",
   "execution_count": null,
   "metadata": {},
   "outputs": [],
   "source": [
    "print(type(Auto1))\n",
    "print(type(Auto2))"
   ]
  },
  {
   "cell_type": "code",
   "execution_count": null,
   "metadata": {},
   "outputs": [],
   "source": [
    "print(\"\\t     Ferrari\\t \\t     Porsche\\n ID\\t {}\\t {}\".format(id(Auto1),id(Auto2)))"
   ]
  },
  {
   "cell_type": "markdown",
   "metadata": {},
   "source": [
    "Los identificadores diferentes para los objetos Ferrari y Porche implican que ambos son objetos diferentes y tienen contextos diferentes (espacio de memoria propios). "
   ]
  },
  {
   "cell_type": "markdown",
   "metadata": {},
   "source": [
    "### Atributos\n",
    "En el caso anterior, el cuerpo de la clase automovil no contenía ningún atributo o método. A continuación se redefinirá la clase Automovil y se agregarán los atributos marca, modelo, color, número de puertas y cilindrada, estos atributos se añaden simplemente definiendo variables en el cuerpo de la clase con valores genéricos pero con un tipo coherente con la abstracción."
   ]
  },
  {
   "cell_type": "code",
   "execution_count": null,
   "metadata": {},
   "outputs": [],
   "source": [
    "class Automovil():\n",
    "    \"\"\"docstring\"\"\"\n",
    "    marca = ''\n",
    "    modelo = ''\n",
    "    color = ''\n",
    "    numero_de_puertas = 0\n",
    "    cilindrada = 0\n",
    "    "
   ]
  },
  {
   "cell_type": "code",
   "execution_count": null,
   "metadata": {},
   "outputs": [],
   "source": [
    "Auto1 = Automovil()\n",
    "Auto2 = Automovil()"
   ]
  },
  {
   "cell_type": "markdown",
   "metadata": {},
   "source": [
    "Igual que en ejemplo anterior, Ferrari y Porche son objetos diferentes, muestra de esto es que tiene diferentes identificadores"
   ]
  },
  {
   "cell_type": "code",
   "execution_count": null,
   "metadata": {},
   "outputs": [],
   "source": [
    "print(\"\\t     Ferrari\\t \\t     Porsche\\n ID\\t {}\\t {}\".format(id(Auto1),id(Auto2)))"
   ]
  },
  {
   "cell_type": "markdown",
   "metadata": {},
   "source": [
    "A pesar de esto, si se inspeccionan sus atributos se notará que el contenido es exactamente el mismo. Para acceder a los atributos de un objeto, se utilzia el operador '**.**', cuya sintaxis es la siguiente : identificador_del_objeto.identificador_del_atributo."
   ]
  },
  {
   "cell_type": "code",
   "execution_count": null,
   "metadata": {},
   "outputs": [],
   "source": [
    "print(\"\\t   Auto1\\t  Auto2\\nMarca\\t {}\\t {}\".format(Auto1.marca,Auto2.marca))\n",
    "print(\"Modelo\\t {}\\t {}\".format(Auto1.modelo,Auto2.modelo))\n",
    "print(\"Color\\t {}\\t {}\".format(Auto1.color,Auto2.color))\n",
    "print(\"Puertas      {}\\t\\t    {}\".format(Auto1.numero_de_puertas,Auto2.numero_de_puertas))\n",
    "print(\"Cilindrada   {}\\t\\t    {}\".format(Auto1.cilindrada,Auto2.cilindrada))"
   ]
  },
  {
   "cell_type": "markdown",
   "metadata": {},
   "source": [
    "Modificando los atributos:"
   ]
  },
  {
   "cell_type": "code",
   "execution_count": null,
   "metadata": {},
   "outputs": [],
   "source": [
    "Auto1.marca = 'Ferrari'\n",
    "Auto1.modelo = '250 GTO'\n",
    "Auto1.color = 'rojo'\n",
    "Auto1.numero_de_puertas = 2\n",
    "Auto1.cilindrada = 3000"
   ]
  },
  {
   "cell_type": "code",
   "execution_count": null,
   "metadata": {},
   "outputs": [],
   "source": [
    "Auto2.marca = 'Porsche'\n",
    "Auto2.modelo = 'Macan'\n",
    "Auto2.color = 'Azul'\n",
    "Auto2.numero_de_puertas = 5\n",
    "Auto2.cilindrada = 2900"
   ]
  },
  {
   "cell_type": "code",
   "execution_count": null,
   "metadata": {},
   "outputs": [],
   "source": [
    "print(\"\\t     Auto1\\t  Auto2\\nMarca\\t    {}\\t {}\".format(Auto1.marca,Auto2.marca))\n",
    "print(\"Modelo\\t    {}       {}\".format(Auto1.modelo,Auto2.modelo))\n",
    "print(\"Color        {}          {}\".format(Auto1.color,Auto2.color))\n",
    "print(\"Puertas        {}\\t    {}\".format(Auto1.numero_de_puertas,Auto2.numero_de_puertas))\n",
    "print(\"Cilindrada   {}\\t   {}\".format(Auto1.cilindrada,Auto2.cilindrada))"
   ]
  },
  {
   "cell_type": "markdown",
   "metadata": {},
   "source": [
    "### Métodos\n",
    "Los métodos, como se mencionó anteriormente son subprogramas pertenecientes a una clase. La sintaxis para la definición de un método es casi idéntica a la sintaxis para la definición de funciones, la única diferencia es que siempre deben recibir como primer argumento la sentencia *self*, self es una referencia al objeto que hace uso del método.\n",
    "\n",
    "El método posiblemente más importante de una clase es el método *__init__(self)*, el cual sirve entre otras cosas para inicializar los atributos. Los atributos definidos dentro de un método deben llevar el prefijo *self.* para indicar que son válidos para el cuerpo de la clase y el resto de los métodos, de lo contrario serán variables locales del método.\n"
   ]
  },
  {
   "cell_type": "code",
   "execution_count": null,
   "metadata": {},
   "outputs": [],
   "source": [
    "class Automovil():\n",
    "    \"\"\"docstring\"\"\"\n",
    "    def __init__(self):\n",
    "        self.marca = ''\n",
    "        self.modelo = ''\n",
    "        self.color = ''\n",
    "        self.numero_de_puertas = 5\n",
    "        self.cilindrada = 2900"
   ]
  },
  {
   "cell_type": "code",
   "execution_count": null,
   "metadata": {},
   "outputs": [],
   "source": [
    "Auto1 = Automovil()"
   ]
  },
  {
   "cell_type": "code",
   "execution_count": null,
   "metadata": {},
   "outputs": [],
   "source": [
    "Auto1.marca = 'Audi'"
   ]
  },
  {
   "cell_type": "markdown",
   "metadata": {},
   "source": [
    "Es posible pasar valores iniciales a los atributos del objeto cuando el mismo se instancia, basta con colocarle argumento a la función **__init__()**"
   ]
  },
  {
   "cell_type": "code",
   "execution_count": null,
   "metadata": {},
   "outputs": [],
   "source": [
    "class Automovil():\n",
    "    \"\"\"docstring\"\"\"\n",
    "    def __init__(self, marca, modelo, color, n_puertas, cilindrada):\n",
    "        self.marca = marca\n",
    "        self.modelo = modelo\n",
    "        self.color = color\n",
    "        self.numero_de_puertas = n_puertas\n",
    "        self.cilindrada = cilindrada"
   ]
  },
  {
   "cell_type": "code",
   "execution_count": null,
   "metadata": {},
   "outputs": [],
   "source": [
    "Auto1 = Automovil('Bugatti', 'Chiron', 'blue', 2, \"3500\")"
   ]
  },
  {
   "cell_type": "code",
   "execution_count": null,
   "metadata": {},
   "outputs": [],
   "source": [
    "print(Auto1.marca)\n",
    "print(Auto1.modelo)\n",
    "print(Auto1.color)\n",
    "print(Auto1.numero_de_puertas)\n",
    "print(Auto1.cilindrada)"
   ]
  },
  {
   "cell_type": "markdown",
   "metadata": {},
   "source": [
    "Ahora, agregando nuevos métodos"
   ]
  },
  {
   "cell_type": "code",
   "execution_count": null,
   "metadata": {},
   "outputs": [],
   "source": [
    "class Automovil():\n",
    "    \"\"\"docstring\"\"\"\n",
    "    def __init__(self):\n",
    "        self.marca = ''\n",
    "        self.modelo = ''\n",
    "        self.color = ''\n",
    "        self.numero_de_puertas = 5\n",
    "        self.cilindrada = 2900\n",
    "        \n",
    "    def acelerar(self):\n",
    "        print('RUN RUN')\n",
    "        \n",
    "    def pintar(self, new_color):\n",
    "        valid_colors = ['red', 'blue', 'white', 'black']\n",
    "        if new_color is not str:\n",
    "            raise TypeError(\"Tipo no válido\")\n",
    "        elif not new_color in valid_colors:\n",
    "            raise ValueError(\"Color no válido\")\n",
    "        else :\n",
    "            self.color = new_color"
   ]
  },
  {
   "cell_type": "code",
   "execution_count": null,
   "metadata": {},
   "outputs": [],
   "source": [
    "Auto1 = Automovil()\n"
   ]
  }
 ],
 "metadata": {
  "kernelspec": {
   "display_name": "Python 3",
   "language": "python",
   "name": "python3"
  },
  "language_info": {
   "codemirror_mode": {
    "name": "ipython",
    "version": 3
   },
   "file_extension": ".py",
   "mimetype": "text/x-python",
   "name": "python",
   "nbconvert_exporter": "python",
   "pygments_lexer": "ipython3",
   "version": "3.7.3"
  }
 },
 "nbformat": 4,
 "nbformat_minor": 4
}

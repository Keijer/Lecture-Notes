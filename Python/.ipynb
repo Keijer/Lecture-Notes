{
 "cells": [
  {
   "cell_type": "markdown",
   "metadata": {},
   "source": [
    "# Archivos de texto en Python "
   ]
  },
  {
   "cell_type": "markdown",
   "metadata": {},
   "source": [
    "Como en cualquier lenguaje de proposito general la manipulación de archivos texto es una tarea fundamental, por esta razón Python incluye clases y funciones especializadas para dicha tarea. Como se estudió previamente, existen multiples formatos de texto, cada uno de estos suele tener un ámbito de aplicación bien definido. El que probablemente sea el formato más primitivo, es .tex. \n",
    "\n",
    "A continuación se dará un ejemplo de los métodos principales de Python para manejar texto utilizando como ejemplo archivos de formato .text \n"
   ]
  },
  {
   "cell_type": "markdown",
   "metadata": {},
   "source": [
    "## Manejo de Archivos. "
   ]
  },
  {
   "cell_type": "markdown",
   "metadata": {},
   "source": [
    "El método open(file, mode) de python es el más básico para el manejo de archoivos. Este método toma dos parámetros el nombre del archivo, y el modo. Existen 4 tipos diferentes de modos para abrir un archivo, de los cuales dependerá como se manejará el archivo en python, \"r\", \"a\", \"w\", \"x\". A su vez, puede especificarse si el archivo de ser manejado en modo binario \"b\" o como texto \"t\" (modo default). El modo inidica en que manera se tratará el archivo.     \n"
   ]
  },
  {
   "cell_type": "markdown",
   "metadata": {},
   "source": [
    "### Crear un archivo"
   ]
  },
  {
   "cell_type": "markdown",
   "metadata": {},
   "source": [
    "El modo \"x\" - Create - Crea el archivo especificado. Si el archivo ya existe el método arrojará un error. \n",
    "En el ejemplo a continuación se asigna a la variable file1 un archivo nuevo de nombre file1 y de formato texto. "
   ]
  },
  {
   "cell_type": "markdown",
   "metadata": {},
   "source": [
    "El método .write () de los objetos tipo file, tiene como parametro un string, y se encarga de escribir dicho string en el archivo y retornar el número total de los caracteres escritos en el archivo. "
   ]
  },
  {
   "cell_type": "code",
   "execution_count": 3,
   "metadata": {},
   "outputs": [
    {
     "ename": "FileExistsError",
     "evalue": "[Errno 17] File exists: 'file1.txt'",
     "output_type": "error",
     "traceback": [
      "\u001b[0;31m---------------------------------------------------------------------------\u001b[0m",
      "\u001b[0;31mFileExistsError\u001b[0m                           Traceback (most recent call last)",
      "\u001b[0;32m<ipython-input-3-bc27fcc4a04b>\u001b[0m in \u001b[0;36m<module>\u001b[0;34m\u001b[0m\n\u001b[0;32m----> 1\u001b[0;31m \u001b[0mfile1\u001b[0m \u001b[0;34m=\u001b[0m \u001b[0mopen\u001b[0m\u001b[0;34m(\u001b[0m\u001b[0;34m'file1.txt'\u001b[0m\u001b[0;34m,\u001b[0m\u001b[0;34m'xt'\u001b[0m\u001b[0;34m)\u001b[0m\u001b[0;34m\u001b[0m\u001b[0;34m\u001b[0m\u001b[0m\n\u001b[0m",
      "\u001b[0;31mFileExistsError\u001b[0m: [Errno 17] File exists: 'file1.txt'"
     ]
    }
   ],
   "source": [
    "file1 = open('file1.txt','xt')"
   ]
  },
  {
   "cell_type": "markdown",
   "metadata": {},
   "source": [
    "str1 = '\\t writable \\t readable \\t seekable\\n\\t {} \\t\\t {} \\t\\t {}'.format(file1.writable(),file1.readable(),file1.seekable())\n",
    "print(str1)"
   ]
  },
  {
   "cell_type": "code",
   "execution_count": null,
   "metadata": {},
   "outputs": [],
   "source": [
    "file1.write('Hola mundo, con archivos!\\nEste archivo posee 3 líneas.\\Otra línea.')"
   ]
  },
  {
   "cell_type": "markdown",
   "metadata": {},
   "source": [
    "### Cerrar un archivo"
   ]
  },
  {
   "cell_type": "markdown",
   "metadata": {},
   "source": [
    "El método .close() se encarga de cerrar el archivo, y por lo tanto de liberar los recursos del sistema utilizados por él. Después que el objeto tipo archivo se cierra, cualquier intento de usar el objeto fallará de manera automática. "
   ]
  },
  {
   "cell_type": "code",
   "execution_count": null,
   "metadata": {},
   "outputs": [],
   "source": [
    "file1.close()"
   ]
  },
  {
   "cell_type": "markdown",
   "metadata": {},
   "source": [
    "### Leer un archivo de texto"
   ]
  },
  {
   "cell_type": "markdown",
   "metadata": {},
   "source": [
    "Para leer un archivo de texto se utiliza el método open() con el modo \"r\". El modo \"r\"- Read- es el modo por defecto del método open, y se encaga de abrir un archivo para su lectura, en caso de que el archivo no exista Python arrojará un error. "
   ]
  },
  {
   "cell_type": "code",
   "execution_count": null,
   "metadata": {},
   "outputs": [],
   "source": [
    "file_n = open('file1.txt','rt')"
   ]
  },
  {
   "cell_type": "markdown",
   "metadata": {},
   "source": [
    "El método .read(size) de los objetos tipo archivo permite leer el contenido de un archivo, y lo retorna como un string o como un objeto byte (en modo binario). Este además tiene un parámetro númerico opcional size, el cual permite establecer la cantidad máxima de contenido que debe retornar el método .read(). En caso de no colocarse el parámetro size, o que este sea negativo el método retornará todo el contenido. "
   ]
  },
  {
   "cell_type": "code",
   "execution_count": null,
   "metadata": {},
   "outputs": [],
   "source": [
    "file_n.read() #Este comando lee todo el contenido"
   ]
  },
  {
   "cell_type": "code",
   "execution_count": null,
   "metadata": {},
   "outputs": [],
   "source": [
    "file_n.close()"
   ]
  },
  {
   "cell_type": "markdown",
   "metadata": {},
   "source": [
    "### Escribir en un archivo"
   ]
  },
  {
   "cell_type": "markdown",
   "metadata": {},
   "source": [
    "El modo \"w\"- Write del método open permite abrir un archivo para su escritura. En caso de que el archivo no exista el modo \"w\" se encarga de crearlo.  "
   ]
  },
  {
   "cell_type": "code",
   "execution_count": null,
   "metadata": {},
   "outputs": [],
   "source": [
    "file_k = open('file.txt','wt')"
   ]
  },
  {
   "cell_type": "code",
   "execution_count": null,
   "metadata": {},
   "outputs": [],
   "source": [
    "file_k.write('Estamos agregando otra línea?')"
   ]
  },
  {
   "cell_type": "code",
   "execution_count": null,
   "metadata": {},
   "outputs": [],
   "source": [
    "file_k.close()"
   ]
  },
  {
   "cell_type": "markdown",
   "metadata": {},
   "source": [
    "### Comprobemos"
   ]
  },
  {
   "cell_type": "code",
   "execution_count": null,
   "metadata": {},
   "outputs": [],
   "source": [
    "file_k = open('file.txt','rt')"
   ]
  },
  {
   "cell_type": "code",
   "execution_count": null,
   "metadata": {},
   "outputs": [],
   "source": [
    "file_k.read()"
   ]
  },
  {
   "cell_type": "markdown",
   "metadata": {},
   "source": [
    "el modo 'w' sustituye el contenido del archivo. Como agregamos texto nuevo sin borrar el anterior?"
   ]
  },
  {
   "cell_type": "code",
   "execution_count": null,
   "metadata": {},
   "outputs": [],
   "source": [
    "file_k.close()"
   ]
  },
  {
   "cell_type": "markdown",
   "metadata": {},
   "source": [
    "### Modifiquemos el código"
   ]
  },
  {
   "cell_type": "markdown",
   "metadata": {},
   "source": [
    "El modo \"a\"- Append- del método open() nos permite agregar contenido a un archivo. En caso de que el archivo no exista crea uno nuevo. "
   ]
  },
  {
   "cell_type": "code",
   "execution_count": null,
   "metadata": {},
   "outputs": [],
   "source": [
    "file_k = open('file.txt','at')"
   ]
  },
  {
   "cell_type": "code",
   "execution_count": null,
   "metadata": {},
   "outputs": [],
   "source": [
    "file_k.write('Con el modo \"a\", que hace referencia a la palabra append ')"
   ]
  },
  {
   "cell_type": "code",
   "execution_count": null,
   "metadata": {},
   "outputs": [],
   "source": [
    "file_k.write('Es posible escribir múltiples veces en el archivo, sin sobreescribir las anteriores')"
   ]
  },
  {
   "cell_type": "code",
   "execution_count": null,
   "metadata": {},
   "outputs": [],
   "source": [
    "file_k.close()"
   ]
  },
  {
   "cell_type": "markdown",
   "metadata": {},
   "source": [
    "### Comprobemos de nuevo"
   ]
  },
  {
   "cell_type": "code",
   "execution_count": null,
   "metadata": {},
   "outputs": [],
   "source": [
    "file_k = open('file.txt','rt')\n",
    "file_k.read()"
   ]
  },
  {
   "cell_type": "code",
   "execution_count": null,
   "metadata": {},
   "outputs": [],
   "source": [
    "file_k.close()"
   ]
  },
  {
   "cell_type": "markdown",
   "metadata": {},
   "source": [
    "No agregó saltos de líneas!!"
   ]
  },
  {
   "cell_type": "markdown",
   "metadata": {},
   "source": [
    "## Escribir archivos de múltiples líneas"
   ]
  },
  {
   "cell_type": "markdown",
   "metadata": {},
   "source": [
    "Se creará un archivo de texto nuevo con el nombre prueba.txt.\n",
    "\n",
    "Al objeto se le asignará el nombre archivo.\n",
    "\n",
    "Se escribirán 3 líneas.\n",
    "\n",
    "Se desplegará la posición del puntero del archivo.\n",
    "\n",
    "Se desplegará el tipo de dato que es la variable archivo.\n",
    "\n",
    "Se cerrará el archivo."
   ]
  },
  {
   "cell_type": "markdown",
   "metadata": {},
   "source": [
    "## Crear y escribir el archivo con múltiples líneas."
   ]
  },
  {
   "cell_type": "code",
   "execution_count": null,
   "metadata": {},
   "outputs": [],
   "source": [
    "file = open('file_ml.txt','w')\n",
    "file.write(\"Hola.\\nBienvenido al curso de Python.\\nEsperamos que sea una agradable experiencia.\")\n",
    "print(file.tell())\n",
    "print(type(file))\n",
    "file.close()"
   ]
  },
  {
   "cell_type": "markdown",
   "metadata": {},
   "source": [
    "## Leer hasta salto de línea"
   ]
  },
  {
   "cell_type": "code",
   "execution_count": null,
   "metadata": {},
   "outputs": [],
   "source": [
    "El comando .readline() leerá hasta que consiga el caracter salto de línea"
   ]
  },
  {
   "cell_type": "code",
   "execution_count": null,
   "metadata": {},
   "outputs": [],
   "source": [
    "archivo = open(\"file_ml.txt\", \"r\")\n",
    "print(archivo.readline()) \n",
    "archivo.close()"
   ]
  },
  {
   "cell_type": "markdown",
   "metadata": {},
   "source": [
    "## Guardar las líneas en una lista"
   ]
  },
  {
   "cell_type": "code",
   "execution_count": null,
   "metadata": {},
   "outputs": [],
   "source": [
    "archivo = open(\"file_ml.txt\", \"r\")\n",
    "a = archivo.readlines()\n",
    "print(a)\n",
    "archivo.close()"
   ]
  },
  {
   "cell_type": "code",
   "execution_count": null,
   "metadata": {},
   "outputs": [],
   "source": [
    "print(type(a))"
   ]
  },
  {
   "cell_type": "markdown",
   "metadata": {},
   "source": [
    "Vamos a imprimir las líneas"
   ]
  },
  {
   "cell_type": "code",
   "execution_count": null,
   "metadata": {},
   "outputs": [],
   "source": [
    "archivo = open(\"file_ml.txt\", \"r\")\n",
    "for linea in archivo.readlines():\n",
    "    print(linea)\n",
    "archivo.close()"
   ]
  },
  {
   "cell_type": "markdown",
   "metadata": {},
   "source": [
    "# Operación Segura"
   ]
  },
  {
   "cell_type": "markdown",
   "metadata": {},
   "source": [
    "Es una buena práctica usar la palabra clave \"with\" cuando se manejan objetos tipo file. La ventaja es que el objeto se cierra correctamente después de que su secuencia termina, incluso si una excepción se levanta en algún momento. En caso de que no se use with, será necesario utilizar el método .close() como se indicó anteriormente.  "
   ]
  },
  {
   "cell_type": "code",
   "execution_count": null,
   "metadata": {},
   "outputs": [],
   "source": [
    "with open(\"file_ml.txt\", \"at\") as archivo:\n",
    "    archivo.writelines([\"Lo lograste.\\n\",\"Has creado un archivo de forma segura.\"])\n"
   ]
  },
  {
   "cell_type": "code",
   "execution_count": null,
   "metadata": {},
   "outputs": [],
   "source": [
    "archivo = open(\"file_ml.txt\", \"r\")\n",
    "for linea in archivo.readlines():\n",
    "    print(linea)\n",
    "archivo.close()"
   ]
  }
 ],
 "metadata": {
  "kernelspec": {
   "display_name": "Python 3",
   "language": "python",
   "name": "python3"
  },
  "language_info": {
   "codemirror_mode": {
    "name": "ipython",
    "version": 3
   },
   "file_extension": ".py",
   "mimetype": "text/x-python",
   "name": "python",
   "nbconvert_exporter": "python",
   "pygments_lexer": "ipython3",
   "version": "3.6.9"
  }
 },
 "nbformat": 4,
 "nbformat_minor": 2
}

{
 "cells": [
  {
   "cell_type": "code",
   "execution_count": 95,
   "metadata": {},
   "outputs": [],
   "source": [
    "from prob import models as mdl"
   ]
  },
  {
   "cell_type": "markdown",
   "metadata": {},
   "source": [
    "# Definiciones\n",
    "\n",
    "## Espacio muestral de un experimento.\n",
    "\n",
    "Consideremos un conjunto $\\Omega$ no vacío, este conjunto contiene todos los posibles resultados $\\omega$ de un experimento. $\\Omega$ se conoce como el espacio muestral del experimento.\n",
    "\n",
    "### Ejemplo \n",
    "1. El espacio muestral $\\Omega$ asociado al experimento lanzar un dado se define como : $\\Omega$ = {1,2,3,4,5,6}\n",
    "\n",
    "2. El espacio muestral $\\Omega$ asociado al experimento de lanzar una moneda se define como : $\\Omega$ = {c,s}\n",
    "\n",
    "3. El espacio muestral $\\Omega$ asociado al experimento formado por lanzar un dado y una moneda: \n",
    "$\\Omega$ = {{1,c}, {1,s}, {2,c}, {2,s}, {3,c}, {3,s}, {4,c}, {4,s}, {5,c}, {5,s}, {6,c}, {6,s}}\n",
    "\n",
    "## Sucesos (o eventos)\n",
    "Los sucesos se definen como proposiciones lógicas sobre los posibles resultados de un experimento. Ejemplo, el suceso $A$ = {Obtener cara y un número par en el experimento compuesto por lanzar una moneda y un dado}.\n",
    "\n",
    "$A$ = {{2,c},{4,c},{6,c}}\n",
    "\n",
    "Los sucesos son subconjuntos del espacio muestral. Se dice que un suceso ha ocurrido si alguno de sus elementos ocurre. Ejemplo:\n",
    "\n",
    "El suceso $A$ ocurre: Si el dado resulta dos y la moneda cara o si el dado resulta cuatro y la moneda cara o si el dado resulta seis y la moneda cara.\n",
    "\n",
    "## Sucesos excluyentes\n",
    "Son dos sucesos que no pueden ocurrir a la vez, en otras palabras, son subconjuntos del espacio muestral que tienen intersección vacia.\n",
    "\n",
    "## $\\sigma$-álgebra\n",
    "Sea $\\mathscr{A}$ un conjunto no vacío de subconjuntos (sucesos) de $\\Omega$ que cumple las siguiente propiedades :\n",
    "\n",
    "1. Si $\\mathbf{A} \\in \\mathscr{A}$, entonces $\\overline{\\mathbf{A}} \\in \\mathscr{A}$.\n",
    "\n",
    "2. Si $\\mathbf{A}_1 , \\mathbf{A}_2 ...$ es un conjunto finito o infinito numerable de subconjuntos pertenecientes a $\\mathscr{A}$, entonces $\\bigcup_{i} \\mathbf{A}_i \\in \\mathscr{A}$.\n",
    "\n",
    "El conjunto $\\mathscr{P}(\\Omega)$, partes de $\\Omega$, se define como el conjunto de todos los subconjuntos del espacio muestral. \n",
    "\n",
    "## Espacio de probabilidades.\n",
    "Un espacio de probabilidades se define como la terna $(\\Omega, \\mathscr{A}, P)$. Donde $P$ es la función de probabilidad,\n",
    "\n",
    "$P: \\mathscr{A} \\rightarrow \\mathbb{R}$.\n",
    "\n",
    "Esta función asigna un número real a cada subconjunto del espacio muestral de $\\Omega$.\n"
   ]
  },
  {
   "cell_type": "markdown",
   "metadata": {},
   "source": [
    "# Axiomas de la teoría de la Probabilidad.\n",
    "\n",
    "#### Axioma 1\n",
    "A cada suceso $\\mathbf{A}$ le corresponde un número no negativo $\\mathbf{P(A)}$, llamado probabilidad del suceso $\\mathbf{A}$.\n",
    "#### Axioma 2\n",
    "El espacio muestral, es un evento seguro. $\\mathbf{P(\\Omega)} = 1$.\n",
    "#### Axioma 3\n",
    "Si $A_1 , A_2, ...$ es un conjunto finito o infinito numerable de sucesos incompatibles dos a dos, entonces:\n",
    "\n",
    "$P(\\bigcup_{i} A_i) = \\sum_{i}P(A_i)$"
   ]
  },
  {
   "cell_type": "markdown",
   "metadata": {},
   "source": [
    "## Determinación de la función de Probabilidades\n",
    "\n",
    "En general, la teoría de probabilidades no propone un método único y general para determinar la función de probabilidades, esto se debe a que cada función de probabilidad corresponde a un modelo de un fenomeno real. Estos modelos pueden ajustarse de mejor o peor manera, pero son modelos."
   ]
  },
  {
   "cell_type": "markdown",
   "metadata": {},
   "source": [
    "### Enfoque Clásico\n",
    "Este enfoque permite determinar los valores de probabilidad antes de ser observado el experimento, la única condición es que todos los posibles eventos elementales sean igual de probables."
   ]
  },
  {
   "cell_type": "markdown",
   "metadata": {},
   "source": [
    "La probabilidad de un evento bajo el enfoque clásico está dado por:"
   ]
  },
  {
   "cell_type": "markdown",
   "metadata": {},
   "source": [
    "$P(S)$ = $\\dfrac{cf}{cp}$"
   ]
  },
  {
   "cell_type": "markdown",
   "metadata": {},
   "source": [
    "Donde: $cf$ es el número de casos favorables y $cp$ es el número de casos posibles"
   ]
  },
  {
   "cell_type": "markdown",
   "metadata": {},
   "source": [
    "#### Ejemplo\n",
    "Sea $S_{i}$ = { Obtener el número i en el lanzamiento de un dado}."
   ]
  },
  {
   "cell_type": "markdown",
   "metadata": {},
   "source": [
    "Determinar la probabilidad $P(S_{i})$ para todo $i$."
   ]
  },
  {
   "cell_type": "markdown",
   "metadata": {},
   "source": [
    "$P(S_{1}) = \\dfrac{1}{6}$"
   ]
  },
  {
   "cell_type": "markdown",
   "metadata": {},
   "source": [
    "$P(S_{2}) = \\dfrac{1}{6}$"
   ]
  },
  {
   "cell_type": "markdown",
   "metadata": {},
   "source": [
    "$\\vdots$"
   ]
  },
  {
   "cell_type": "markdown",
   "metadata": {},
   "source": [
    "$P(S_{6}) = \\dfrac{1}{6}$"
   ]
  },
  {
   "cell_type": "markdown",
   "metadata": {},
   "source": [
    "¿Esto cumple los axiomas de probabilidad?"
   ]
  },
  {
   "cell_type": "markdown",
   "metadata": {},
   "source": [
    "##### Axioma 1"
   ]
  },
  {
   "cell_type": "markdown",
   "metadata": {},
   "source": [
    "Conocemos que:"
   ]
  },
  {
   "cell_type": "markdown",
   "metadata": {},
   "source": [
    "$P(S_{i}) = \\dfrac{cf}{cp}$ "
   ]
  },
  {
   "cell_type": "markdown",
   "metadata": {},
   "source": [
    "$cf = 1$ y $cp = 6$ para todo $i$."
   ]
  },
  {
   "cell_type": "markdown",
   "metadata": {},
   "source": [
    "Ahora,"
   ]
  },
  {
   "cell_type": "markdown",
   "metadata": {},
   "source": [
    "$P(S_{i}) \\geq 0 $  para todo $ i \\in$ $\\{1,2,3,4,5,6\\}$"
   ]
  },
  {
   "cell_type": "markdown",
   "metadata": {},
   "source": [
    "Por lo tanto, el Axioma 1 se cumple para esta definición de probabilidad."
   ]
  },
  {
   "cell_type": "markdown",
   "metadata": {},
   "source": [
    "##### Axioma 2"
   ]
  },
  {
   "cell_type": "markdown",
   "metadata": {},
   "source": [
    "Para determinar la probabilidad del espacio muestral a través del enfoque clásico, enumeramos los casos favorables:"
   ]
  },
  {
   "cell_type": "markdown",
   "metadata": {},
   "source": [
    "$cf(\\Omega) = 6 $"
   ]
  },
  {
   "cell_type": "markdown",
   "metadata": {},
   "source": [
    "Por lo tanto, la probabilidad de dicho evento es:\n",
    "\n",
    "$\\mathbf{P(\\Omega)} = \\frac{6}{6} = 1$"
   ]
  },
  {
   "cell_type": "markdown",
   "metadata": {},
   "source": [
    "##### Axioma 3"
   ]
  },
  {
   "cell_type": "markdown",
   "metadata": {},
   "source": [
    "Loseventos $S_{i}$ son mutuamente excluyentes, en otras palabras no pueden ocurrir dos al mismo tiempo, son sucesos incompatibles. Además, sabemos que:"
   ]
  },
  {
   "cell_type": "markdown",
   "metadata": {},
   "source": [
    "$\\bigcup_{i} S_i = \\Omega$\n",
    "\n",
    "$P(\\bigcup_{i} S_i) = P(\\Omega) = 1$"
   ]
  },
  {
   "cell_type": "markdown",
   "metadata": {},
   "source": [
    "Por otro lado,\n",
    "\n",
    "$\\sum_{i} P(S_i) = P(S_1) + P(S_2) + P(S_3) + P(S_4) + P(S_5) + P(S_6)$\n",
    "\n",
    "$\\sum_{i} P(S_i) = \\dfrac{1}{6} + \\dfrac{1}{6} + \\dfrac{1}{6} +\\dfrac{1}{6} +\\dfrac{1}{6} +\\dfrac{1}{6} = 1$"
   ]
  },
  {
   "cell_type": "markdown",
   "metadata": {},
   "source": [
    "Por lo tanto,\n",
    "\n",
    "$P(\\bigcup_{i} S_i) = \\sum_{i} P(S_i)$\n",
    "\n",
    "Con lo que queda verificado el axioma 3."
   ]
  },
  {
   "cell_type": "markdown",
   "metadata": {},
   "source": [
    "#### Ejemplo\n",
    "Una urna contiene $a$ bolas blancas y $b$ bolas negras. Se eligen al azar $c$ bolas, donde $c < a+ b$. Calcular la probabilidad de que entre las bolas extraídas haya $a_0$ bolas blancas y $b_0$ bolas negras.\n",
    "\n",
    "Solución:\n",
    "\n",
    "Tenemos $a_0 + b_0 =c$, con $0 \\leq a_0 \\leq a$ y $0 \\leq b_0 \\leq b$. Es claro que\n",
    "la cantidad de formas distintas de elegir $a_0 + b_0$ bolas entre las $a+b$ bolas de\n",
    "la urna es ${a+b\\choose c}$. Todas estas formas serán consideradas equiprobables.\n",
    "\n",
    "Continuando, la cantidad de formas distintas de elegir $a_0$ bolas blancas\n",
    "entre las $a$ bolas blancas que hay en la urna es ${a \\choose a_0}$ , y para cada una de\n",
    "las formas de elección de $a_0$ bolas blancas, existen ${b \\choose b_0}$ formas distintas\n",
    "de elegir $b_0$ bolas negras entre las $b$ bolas negras de la urna. Por esto, la\n",
    "cantidad de casos favorables para la ocurrencia del suceso A, consistente\n",
    "en elegir $a_0$ bolas blancas y $b_0$ bolas negras, es ${a \\choose a_0}{b \\choose b_0}$. Finalmente, la probabilidad del evento queda dada por :\n",
    "\n",
    "$\\dfrac{{a \\choose a_0}{b \\choose b_0}}{{a+b\\choose c}}$"
   ]
  },
  {
   "cell_type": "markdown",
   "metadata": {},
   "source": [
    "### Enfoque Frecuentista\n",
    "Es una forma de interpretar las probabilidades. Para determinar la probabilidad con este método, es necesario encontrar la frecuencia relativa esperada a largo plazo."
   ]
  },
  {
   "cell_type": "markdown",
   "metadata": {},
   "source": [
    "La probabilidad de un evento bajo el enfoque frecuentista está dado por:"
   ]
  },
  {
   "cell_type": "markdown",
   "metadata": {},
   "source": [
    "#### Ejemplo\n",
    "$S_{i}$ = { Obtener el número i en el lanzamiento de un dado}"
   ]
  },
  {
   "cell_type": "markdown",
   "metadata": {},
   "source": [
    "$P(S_{i})$ = $\\lim_{N \\to \\infty}{\\dfrac{n}{N}}$"
   ]
  },
  {
   "cell_type": "code",
   "execution_count": 89,
   "metadata": {},
   "outputs": [
    {
     "name": "stdin",
     "output_type": "stream",
     "text": [
      "Ingrese el número de veces que desea repetir el experimento:  1000000\n"
     ]
    }
   ],
   "source": [
    "N = int(input(\"Ingrese el número de veces que desea repetir el experimento: \"))"
   ]
  },
  {
   "cell_type": "code",
   "execution_count": 90,
   "metadata": {},
   "outputs": [],
   "source": [
    "evento = [2,4,6]"
   ]
  },
  {
   "cell_type": "code",
   "execution_count": 91,
   "metadata": {},
   "outputs": [],
   "source": [
    "n = 0\n",
    "realizaciones = []\n",
    "for _ in range(N):\n",
    "    realizacion = mdl.dadoNC()\n",
    "    if realizacion in evento:\n",
    "        n += 1\n",
    "    realizaciones.append(realizacion)\n",
    "probabilidad = (n/N)"
   ]
  },
  {
   "cell_type": "code",
   "execution_count": 92,
   "metadata": {},
   "outputs": [
    {
     "name": "stdout",
     "output_type": "stream",
     "text": [
      "0.499224\n"
     ]
    }
   ],
   "source": [
    "print(probabilidad)"
   ]
  },
  {
   "cell_type": "code",
   "execution_count": 87,
   "metadata": {},
   "outputs": [],
   "source": [
    "valor_e = (1/2)"
   ]
  },
  {
   "cell_type": "markdown",
   "metadata": {},
   "source": [
    "#### Error porcentual\n",
    "\n",
    "$e\\% = \\dfrac{|ve - pf|}{ve} \\cdot 100\\%$\n",
    "\n",
    "Donde: \n",
    "$e\\%$ es el error porcentual.\n",
    "$ve$ es el valor esperado de probabilidad.\n",
    "$pf$ es la probabilidad frecuentista."
   ]
  },
  {
   "cell_type": "code",
   "execution_count": 93,
   "metadata": {},
   "outputs": [
    {
     "name": "stdout",
     "output_type": "stream",
     "text": [
      "0.15519999999999978\n"
     ]
    }
   ],
   "source": [
    "print((abs(valor_e - probabilidad)/valor_e)*100)"
   ]
  },
  {
   "cell_type": "markdown",
   "metadata": {},
   "source": [
    "# Teoremas de la probabilidad"
   ]
  },
  {
   "cell_type": "markdown",
   "metadata": {},
   "source": [
    "Teorema 1.1: Para cualquier suceso $A$, se tiene que $P(\\overline{A}) = 1 -P(A)$.\n",
    "\n",
    "Teorema 1.2: El suceso imposible tiene probabilidad nular, $P(\\emptyset) = 0$\n",
    "\n",
    "Teorema 1.3: Si $A\\subset B$, entonces $P(A) \\leq P(B)$.\n",
    "\n",
    "Teorema 1.4: Para cualquier suceso $A$, se tiene  $0 \\leq P(A) \\leq 1$.\n",
    "\n",
    "Teorema 1.5: Para sucesos $A$ y $B$ arbitrarios vale la igualdad: $P(A \\cup B) = P(A) + P(B)- P(A\\cap B)$"
   ]
  },
  {
   "cell_type": "markdown",
   "metadata": {},
   "source": [
    "# Probabilidad condicional\n",
    "Consideremos un espacio de probabilidad $(\\Omega,\\mathscr{A},P)$ y dos sucesos cualesquiera $A$ y $B$, con $P(A) > 0$. Definimos la probabilidad condicional de $B$ dando $A$, designada como $P(B|A)$, mediante la formula:\n",
    "\n",
    "$P(B|A) = \\dfrac{P(A\\cap B)}{P(A)}$\n",
    "\n",
    "Si los sucesos $A$ y $B$ son independientes, se cumple que :\n",
    "\n",
    "$P(B|A) = P(B)$\n",
    "\n",
    "Lo que implica que:\n",
    "\n",
    "$P(A\\cap B) = P(A)P(B)$.\n",
    "\n",
    "## Probabilidad Total\n",
    "Teorema 1.6: Consideremos sucesos $A_1, ... A_n$ incompatibles dos a dos y exhaustivos sobre el espacio muestral. Sea $B$ un suceso arbitrario. Entonces\n",
    "\n",
    "$P(B) = \\sum_{i=1}^{n} P(B|A_i)P(B)$\n",
    "\n",
    "## Ejemplo\n",
    "Se tiene un cofre con 4 bolas enumeradas. En una primera extracción un experimentador retira 1 de las bolas sin reposición. Calcule la probabilidad de que un segundo experimentador obtenga la bola 3, dado que no conoce cual bola fue sacada de la caja en la primera extracción:\n",
    "\n",
    "\n",
    "\n",
    "## Teorema de Bayes\n",
    "Teorema 1.7: Consideremos sucesos $A_1,..., A_n$ incompatibles dos a dos y exhaustivos sobre el espacio muestral. Sea $B$ un suceso con probabilidad positiva. Entonces\n",
    "\n",
    "$P(A_k|B) = \\dfrac{P(A_k)P(B|A_k)}{\\sum_{i=1}^{n} P(A_i)P(B|A_i)}$"
   ]
  },
  {
   "cell_type": "markdown",
   "metadata": {},
   "source": [
    "## Ejemplo\n",
    "Para el ejemplo anterior, calcule la probabilidad de que en la primera extracción se sacó la bola 3, dado que en la segunda extracción se sacó la bola 2 :"
   ]
  },
  {
   "cell_type": "markdown",
   "metadata": {},
   "source": [
    "# Variables aleatorias\n",
    "Una variable aleatoria es un función que asigna un valor numérico al resultado de un experimento. \n",
    "\n",
    "$\\mathbf{X}: \\Omega \\rightarrow \\mathbb{R}$.\n",
    "\n",
    "Ejemplo:\n",
    "\n",
    "Sea el experimento lanzar una moneda, definimos la variable aleatoria $\\mathbf{X}$ = {Obtener sello en una lanzamiento de moneda} como :\n",
    "\n",
    "\n",
    "\n"
   ]
  },
  {
   "cell_type": "markdown",
   "metadata": {},
   "source": [
    "$\\mathbf{X}(\\omega) = \\left\\{\n",
    "\\begin{array}{ll}\n",
    "0      & \\omega = c \\\\\n",
    "1 & \\omega = s\n",
    "\\end{array}\n",
    "\\right.$"
   ]
  },
  {
   "cell_type": "markdown",
   "metadata": {},
   "source": [
    "Las variables aleatorias, pueden ser continuas o discretas y en términos de estas puede ser descrito el comportamiento probabilistico de los fenómenos."
   ]
  },
  {
   "cell_type": "markdown",
   "metadata": {},
   "source": [
    "# Función de masa de probabilidades"
   ]
  },
  {
   "cell_type": "markdown",
   "metadata": {},
   "source": [
    "En el caso discreto la función de masa de probabilidad (fmp), muestra un valor de probabilidad por cada elemento del espacio muestral asociado a $\\mathbf{X}$. Por ejemplo, la función de masa de probabilidades que describe el comportamiento probabilístico del lanzamiento de una moneda, está dado por:\n",
    "\n",
    "\n",
    "$f_{\\mathbf{X}}(x) = \\left\\{\n",
    "\\begin{array}{ll}\n",
    "0.5      & x = 0 \\\\\n",
    "0.5 & x = 1\n",
    "\\end{array}\n",
    "\\right.$ \n",
    "\n",
    "Esta función de densidad, puede ser el modelo para otro experimento totalmente diferente, por ejemplo, sea la variable aleatoria $\\mathbf{Y}$ = {Obtener un número par al lanzar un dado}.\n",
    "\n",
    "$f_{\\mathbf{Y}}(y) = \\left\\{\n",
    "\\begin{array}{ll}\n",
    "0.5      & y = 0 \\\\\n",
    "0.5 & y = 1\n",
    "\\end{array}\n",
    "\\right.$ \n",
    "\n",
    "En este caso, se dice que las variables tienen la misma ley o distribución.\n",
    "\n",
    "$f_{\\mathbf{X}}(0) = P(\\mathbf{X} = 0) = P({c}) = 0.5$\n",
    "\n",
    "$f_{\\mathbf{Y}}(1) = P(\\mathbf{Y} = 1) = P({2,4,6}) = 0.5$"
   ]
  },
  {
   "cell_type": "markdown",
   "metadata": {},
   "source": [
    "# Función densidad de probabilidades"
   ]
  },
  {
   "cell_type": "markdown",
   "metadata": {},
   "source": [
    "En el caso continuo, la función densidad de probabilidades (fdp), describe la probabilidad relativa según la cual dicha variable aleatoria tomará cierto valor. La diferencia fundamental se encuentra que, para fenomenos continuos la probabilidad puntual es igual a cero, pero toma valores distintos de cero para intervalos. Por lo tanto,\n",
    "\n",
    "$P(a \\leq \\mathbf{X} \\leq b) =  \\int_{a}^{b} f_{\\mathbf{X}}(x) dx$"
   ]
  }
 ],
 "metadata": {
  "kernelspec": {
   "display_name": "Python 3",
   "language": "python",
   "name": "python3"
  },
  "language_info": {
   "codemirror_mode": {
    "name": "ipython",
    "version": 3
   },
   "file_extension": ".py",
   "mimetype": "text/x-python",
   "name": "python",
   "nbconvert_exporter": "python",
   "pygments_lexer": "ipython3",
   "version": "3.7.3"
  }
 },
 "nbformat": 4,
 "nbformat_minor": 2
}
